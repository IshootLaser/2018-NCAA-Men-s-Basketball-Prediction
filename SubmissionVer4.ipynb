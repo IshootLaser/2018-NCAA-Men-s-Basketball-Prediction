{
 "cells": [
  {
   "cell_type": "code",
   "execution_count": 1,
   "metadata": {},
   "outputs": [],
   "source": [
    "import pandas as pd\n",
    "import numpy as np\n",
    "import hashlib\n",
    "import matplotlib.pyplot as plt\n",
    "import tensorflow as tf\n",
    "from tensorflow.contrib.layers import fully_connected\n",
    "from sklearn.utils import shuffle\n",
    "from sklearn.preprocessing import StandardScaler\n",
    "from sklearn.pipeline import Pipeline\n",
    "from sklearn.model_selection import cross_val_score\n",
    "from sklearn.linear_model import SGDClassifier\n",
    "from sklearn.ensemble import RandomForestClassifier\n",
    "from sklearn.linear_model import LogisticRegression\n",
    "from sklearn.model_selection import GridSearchCV\n",
    "from sklearn.metrics import log_loss, accuracy_score\n",
    "from sklearn.model_selection import train_test_split\n",
    "from itertools import compress\n",
    "from sklearn.externals import joblib\n",
    "import datetime"
   ]
  },
  {
   "cell_type": "markdown",
   "metadata": {},
   "source": [
    "Importing data with pandas"
   ]
  },
  {
   "cell_type": "code",
   "execution_count": 3,
   "metadata": {},
   "outputs": [
    {
     "name": "stdout",
     "output_type": "stream",
     "text": [
      "The total number of regular season instance is 82041.\n",
      "The total number of tourney instance is 981.\n"
     ]
    }
   ],
   "source": [
    "df_seed = pd.read_csv(r'F:\\CODE\\NCAA 2018\\Stage2UpdatedDataFiles\\NCAATourneySeeds.csv')\n",
    "df_tourney_compact = pd.read_csv(r'F:\\CODE\\NCAA 2018\\DataFiles\\NCAATourneyCompactResults.csv')\n",
    "df_tourney_detail = pd.read_csv(r'F:\\CODE\\NCAA 2018\\DataFiles\\NCAATourneyDetailedResults.csv')\n",
    "df_reg_compact = pd.read_csv(r'F:\\CODE\\NCAA 2018\\DataFiles\\RegularSeasonCompactResults.csv')\n",
    "df_reg_detail = pd.read_csv(r'F:\\CODE\\NCAA 2018\\Stage2UpdatedDataFiles\\RegularSeasonDetailedResults.csv')\n",
    "df_Ordinal = pd.read_csv(r'F:\\CODE\\NCAA 2018\\MasseyOrdinals\\MasseyOrdinals_thruSeason2018_Day128.csv')\n",
    "df_rating = df_Ordinal[df_Ordinal['SystemName'].str.contains('WOL')]\n",
    "syslist = list(df_Ordinal['SystemName'].unique())\n",
    "df_seed['seed rank'] = df_seed['Seed'].apply(lambda x: int(x[1:3]))\n",
    "df_seed = df_seed[df_seed['Season'] >= 2003].drop('Seed', axis = 1)\n",
    "df_reg_compact = df_reg_compact[df_reg_compact['Season'] >= 2003]\n",
    "df_tourney_compact = df_tourney_compact.drop(['DayNum', 'WLoc', 'NumOT'], axis = 1)\n",
    "df_tourney_detail = df_tourney_detail.drop(['DayNum', 'WLoc', 'NumOT'], axis = 1)\n",
    "df_reg_compact = df_reg_compact.drop(['DayNum', 'WLoc', 'NumOT'], axis = 1)\n",
    "df_reg_detail = df_reg_detail.drop(['DayNum', 'WLoc', 'NumOT'], axis = 1)\n",
    "\n",
    "df_regular = df_reg_detail.merge(df_seed, left_on = ['WTeamID', 'Season'], right_on = ['TeamID', 'Season'], how = 'outer').drop('TeamID', axis = 1)\n",
    "df_regular = df_regular.rename(index = str, columns = {'seed rank': 'WSeed'})\n",
    "df_regular = df_regular.merge(df_seed, left_on = ['LTeamID', 'Season'], right_on = ['TeamID', 'Season'], how = 'outer').drop('TeamID', axis = 1)\n",
    "df_regular = df_regular.rename(index = str, columns = {'seed rank': 'LSeed'})\n",
    "fillna = {'WSeed': 17, 'LSeed': 17}\n",
    "df_regular = df_regular.fillna(value = fillna)\n",
    "df_regular = df_regular.dropna(how = 'any')\n",
    "print('The total number of regular season instance is {}.'.format(len(df_regular.index)))\n",
    "df_regular = df_regular.drop(['WScore', 'LScore'], axis = 1)\n",
    "\n",
    "df_tourney = df_tourney_detail.merge(df_seed, left_on = ['WTeamID', 'Season'], right_on = ['TeamID', 'Season'], how = 'outer').drop('TeamID', axis = 1)\n",
    "df_tourney = df_tourney.rename(index = str, columns = {'seed rank': 'WSeed'})\n",
    "df_tourney = df_tourney.merge(df_seed, left_on = ['LTeamID', 'Season'], right_on = ['TeamID', 'Season'], how = 'outer').drop('TeamID', axis = 1)\n",
    "df_tourney = df_tourney.rename(index = str, columns = {'seed rank': 'LSeed'})\n",
    "df_tourney = df_tourney.dropna(how = 'any')\n",
    "print('The total number of tourney instance is {}.'.format(len(df_tourney.index)))\n",
    "df_tourney = df_tourney.drop(['WScore', 'LScore'], axis = 1)"
   ]
  },
  {
   "cell_type": "markdown",
   "metadata": {},
   "source": [
    "Calculate advanced stats for each game."
   ]
  },
  {
   "cell_type": "code",
   "execution_count": 4,
   "metadata": {},
   "outputs": [],
   "source": [
    "df_total = pd.concat((df_regular, df_tourney), axis = 0)\n",
    "Attributes = list(df_total.drop(['Season', 'WTeamID', 'LTeamID', 'WSeed', 'LSeed'], axis = 1).columns.values)\n",
    "# Win/lose points\n",
    "df_total['WPts'] = df_total.apply(lambda row: 2*row.WFGM + row.WFGM3 + row.WFTM, axis=1)\n",
    "df_total['LPts'] = df_total.apply(lambda row: 2*row.LFGM + row.LFGM3 + row.LFTM, axis=1)\n",
    "#Win/lose possession\n",
    "wPos = df_total.apply(lambda row: 0.96*(row.WFGA + row.WTO + 0.44*row.WFTA - row.WOR), axis=1)\n",
    "lPos = df_total.apply(lambda row: 0.96*(row.LFGA + row.LTO + 0.44*row.LFTA - row.LOR), axis=1)\n",
    "#Average possession per game\n",
    "df_total['Pos'] = (wPos+lPos)/2\n",
    "#Offensive efficiency\n",
    "df_total['WOffRtg'] = df_total.apply(lambda row: 100 * (row.WPts / row.Pos), axis=1)\n",
    "df_total['LOffRtg'] = df_total.apply(lambda row: 100 * (row.LPts / row.Pos), axis=1)\n",
    "#Defensive efficiency\n",
    "df_total['WDefRtg'] = df_total.LOffRtg\n",
    "df_total['LDefRtg'] = df_total.WOffRtg\n",
    "#Net Rating\n",
    "df_total['WNetRtg'] = df_total.apply(lambda row:(row.WOffRtg - row.WDefRtg), axis=1)\n",
    "df_total['LNetRtg'] = df_total.apply(lambda row:(row.LOffRtg - row.LDefRtg), axis=1)\n",
    "#Assist Ratio\n",
    "df_total['WAstR'] = df_total.apply(lambda row: 100 * row.WAst / (row.WFGA + 0.44*row.WFTA + row.WAst + row.WTO), axis=1)\n",
    "df_total['LAstR'] = df_total.apply(lambda row: 100 * row.LAst / (row.LFGA + 0.44*row.LFTA + row.LAst + row.LTO), axis=1)\n",
    "# Turnover Ratio\n",
    "df_total['WTOR'] = df_total.apply(lambda row: 100 * row.WTO / (row.WFGA + 0.44*row.WFTA + row.WAst + row.WTO), axis=1)\n",
    "df_total['LTOR'] = df_total.apply(lambda row: 100 * row.LTO / (row.LFGA + 0.44*row.LFTA + row.LAst + row.LTO), axis=1)\n",
    "#Shooting Percentage\n",
    "df_total['WTSP'] = df_total.apply(lambda row: 100 * row.WPts / (2 * (row.WFGA + 0.44 * row.WFTA)), axis=1)\n",
    "df_total['LTSP'] = df_total.apply(lambda row: 100 * row.LPts / (2 * (row.LFGA + 0.44 * row.LFTA)), axis=1)\n",
    "#Effective field goal\n",
    "df_total['WeFGP'] = df_total.apply(lambda row:(row.WFGM + 0.5 * row.WFGM3) / row.WFGA, axis=1)      \n",
    "df_total['LeFGP'] = df_total.apply(lambda row:(row.LFGM + 0.5 * row.LFGM3) / row.LFGA, axis=1)\n",
    "# FTA Rate\n",
    "df_total['WFTAR'] = df_total.apply(lambda row: row.WFTA / row.WFGA, axis=1)\n",
    "df_total['LFTAR'] = df_total.apply(lambda row: row.LFTA / row.LFGA, axis=1)\n",
    "# OREB%\n",
    "df_total['WORP'] = df_total.apply(lambda row: row.WOR / (row.WOR + row.LDR), axis=1)\n",
    "df_total['LORP'] = df_total.apply(lambda row: row.LOR / (row.LOR + row.WDR), axis=1)\n",
    "# DREB%\n",
    "df_total['WDRP'] = df_total.apply(lambda row: row.WDR / (row.WDR + row.LOR), axis=1)\n",
    "df_total['LDRP'] = df_total.apply(lambda row: row.LDR / (row.LDR + row.WOR), axis=1)\n",
    "#REB%\n",
    "df_total['WRP'] = df_total.apply(lambda row: (row.WDR + row.WOR) / (row.WDR + row.WOR + row.LDR + row.LOR), axis=1)\n",
    "df_total['LRP'] = df_total.apply(lambda row: (row.LDR + row.WOR) / (row.WDR + row.WOR + row.LDR + row.LOR), axis=1) \n",
    "Attributes.append('Pos')\n",
    "df_total = df_total.drop(columns = Attributes)\n",
    "df_total = df_total.reset_index()\n",
    "df_total = df_total.drop('index', axis = 1)\n",
    "\n",
    "winnerStats = list(compress(df_total.drop(['Season', 'WTeamID', 'LTeamID', 'WSeed'], axis = 1).columns.values, [x.startswith('W') for x in df_total.drop(['Season', 'WTeamID', 'LTeamID', 'WSeed'], axis = 1).columns.values]))\n",
    "loserStats = list(compress(df_total.drop(['Season', 'WTeamID', 'LTeamID', 'LSeed'], axis = 1).columns.values, [x.startswith('L') for x in df_total.drop(['Season', 'WTeamID', 'LTeamID', 'LSeed'], axis = 1).columns.values]))\n",
    "\n",
    "df_dummy = df_total[:-981]\n",
    "\n",
    "for year in df_total['Season'].unique():\n",
    "    df_dummy_1 = df_dummy[df_dummy['Season'] == year]\n",
    "    for team in pd.concat((df_dummy_1['WTeamID'], df_dummy_1['LTeamID'])).unique():\n",
    "        df_dummy_2 = df_dummy_1[(df_dummy_1['WTeamID'] == team)]\n",
    "        df_dummy_2_mean = df_dummy_2[winnerStats].mean().values\n",
    "        df_dummy_3 = df_dummy_1[(df_dummy_1['LTeamID'] == team)]\n",
    "        df_dummy_3_mean = df_dummy_3[loserStats].mean().values\n",
    "        if len(df_dummy_2.index) == 0:\n",
    "            TotalMean = df_dummy_3_mean\n",
    "        elif len(df_dummy_3.index) == 0:\n",
    "            TotalMean = df_dummy_2_mean\n",
    "        else:\n",
    "            TotalMean = (df_dummy_2_mean + df_dummy_3_mean) / 2\n",
    "        \n",
    "        index_W = df_total[(df_total['WTeamID'] == team) & (df_total['Season'] == year)].index\n",
    "        df_total.loc[index_W, winnerStats] = TotalMean\n",
    "        index_L = df_total[(df_total['LTeamID'] == team) & (df_total['Season'] == year)].index\n",
    "        df_total.loc[index_L, loserStats] = TotalMean\n",
    "\n",
    "for year in df_total['Season'].unique():\n",
    "    dummy = df_rating[df_rating['Season'] == year]\n",
    "    for team in dummy['TeamID'].unique():\n",
    "        dummy2 = dummy[(dummy['TeamID'] == team)]\n",
    "        OR = dummy2['OrdinalRank'].to_frame().values[-1]\n",
    "        index1 = df_total[(df_total['WTeamID'] == team) & (df_total['Season'] == year)].index\n",
    "        index2 = df_total[(df_total['LTeamID'] == team) & (df_total['Season'] == year)].index\n",
    "        if len(index1) != 0:\n",
    "            df_total.loc[index1, 'WOR'] = OR\n",
    "        if len(index2) != 0:\n",
    "            df_total.loc[index2, 'LOR'] = OR\n",
    "\n",
    "df_total = df_total.dropna(how = 'any')\n",
    "df_total.to_pickle('./df_total.pkl')"
   ]
  },
  {
   "cell_type": "markdown",
   "metadata": {},
   "source": [
    "Prepare training, validation and test data."
   ]
  },
  {
   "cell_type": "code",
   "execution_count": 5,
   "metadata": {},
   "outputs": [
    {
     "name": "stdout",
     "output_type": "stream",
     "text": [
      "Number of feature = 28\n",
      "Number of training instance = 166024\n",
      "Number of CV instance = 29885\n",
      "Number of test instance = 16603\n",
      "Number of target instance = 124\n"
     ]
    }
   ],
   "source": [
    "winnerStats = list(compress(df_total.drop(['Season', 'WTeamID', 'LTeamID'], axis = 1).columns.values, [x.startswith('W') for x in df_total.drop(['Season', 'WTeamID', 'LTeamID'], axis = 1).columns.values]))\n",
    "loserStats = list(compress(df_total.drop(['Season', 'WTeamID', 'LTeamID'], axis = 1).columns.values, [x.startswith('L') for x in df_total.drop(['Season', 'WTeamID', 'LTeamID'], axis = 1).columns.values]))\n",
    "test_split = df_total[-981:].copy()\n",
    "test_index = test_split[test_split['Season'] >= 2017].index[0]\n",
    "\n",
    "df_winner = df_total[winnerStats].copy()\n",
    "df_loser = df_total[loserStats].copy()\n",
    "df_win = pd.concat([df_total[['Season', 'WTeamID', 'LTeamID']], df_winner, df_loser], axis = 1)\n",
    "df_lose = pd.concat([df_total[['Season', 'WTeamID', 'LTeamID']], df_loser, df_winner], axis = 1)\n",
    "df_win['label'] = 1\n",
    "df_lose['label'] = 0\n",
    "renamedict = dict(zip(loserStats+winnerStats, winnerStats+loserStats))\n",
    "df_lose = df_lose.rename(index = str, columns = renamedict).reset_index(drop = True)\n",
    "\n",
    "df_target = pd.concat([df_win.loc[test_index:], df_lose.loc[test_index:]])\n",
    "droplist = ['Season', 'WTeamID', 'LTeamID', 'label']\n",
    "df_data = pd.concat((df_win, df_lose))\n",
    "df_data_x = df_data.drop(droplist, axis = 1)\n",
    "df_data_y = df_data['label']\n",
    "X_train, X_test, y_train, y_test = train_test_split(df_data_x, df_data_y, test_size = 0.1)\n",
    "_, X_val, _, y_val = train_test_split(X_train, y_train, test_size = 0.2)\n",
    "\n",
    "X_target = df_target.drop(droplist, axis = 1)\n",
    "y_target = df_target['label']\n",
    "scaler = StandardScaler()\n",
    "X_train_scaled = scaler.fit_transform(X_train)\n",
    "X_test_scaled = scaler.fit_transform(X_test)\n",
    "X_val_scaled = scaler.fit_transform(X_val)\n",
    "X_target_scaled = scaler.fit_transform(X_target)\n",
    "print('Number of feature = {}'.format(len(X_train.columns.values)))\n",
    "print('Number of training instance = {}'.format(len(df_data.index)))\n",
    "print('Number of CV instance = {}'.format(len(X_val.index)))\n",
    "print('Number of test instance = {}'.format(len(X_test.index)))\n",
    "print('Number of target instance = {}'.format(len(X_target.index)))"
   ]
  },
  {
   "cell_type": "markdown",
   "metadata": {},
   "source": [
    "Simple baseline estimator with logistic regression."
   ]
  },
  {
   "cell_type": "code",
   "execution_count": 6,
   "metadata": {
    "scrolled": false
   },
   "outputs": [
    {
     "name": "stdout",
     "output_type": "stream",
     "text": [
      "Best score is: -0.48694866110522406.\n",
      "Best parameter is: {'C': 0.10000000000000001}\n",
      "Test Log loss is 0.4869121827651006\n",
      "CV loss is 0.48540220679931967\n",
      "Target loss is 0.5331412789955903\n"
     ]
    }
   ],
   "source": [
    "lrclf = LogisticRegression()\n",
    "params_dict = {'C': np.logspace(start=-5,stop=3,num=5)}\n",
    "grid_search = GridSearchCV(lrclf, params_dict, scoring = 'neg_log_loss',\n",
    "              cv = 3, refit = True)\n",
    "grid_search.fit(X_train_scaled, y_train)\n",
    "print('Best score is: {}.\\nBest parameter is: {}'.format(grid_search.best_score_,grid_search.best_params_))\n",
    "y_pred_test = grid_search.predict_proba(X_test_scaled)[:,1]\n",
    "print('Test Log loss is {}'.format(log_loss(y_test.values.reshape(-1,1), y_pred_test.reshape(-1,1))))\n",
    "y_pred_CV = grid_search.predict_proba(X_val_scaled)[:,1]\n",
    "print('CV loss is {}'.format(log_loss(y_val.values.reshape(-1,1), y_pred_CV.reshape(-1,1))))\n",
    "y_pred_target = grid_search.predict_proba(X_target_scaled)[:,1]\n",
    "print('Target loss is {}'.format(log_loss(y_target.values.reshape(-1,1), y_pred_target.reshape(-1,1))))"
   ]
  },
  {
   "cell_type": "markdown",
   "metadata": {},
   "source": [
    "Trying to get better results using a simple fully connected network.<br>\n",
    "I added dropout to suppress overfitting. I have tried dropout range 0.2~0.9 but I found that a slight dropout (0.9) works better in this case."
   ]
  },
  {
   "cell_type": "code",
   "execution_count": 8,
   "metadata": {
    "scrolled": true
   },
   "outputs": [
    {
     "name": "stdout",
     "output_type": "stream",
     "text": [
      "Current epoch 0 train loss:  0.7490081787109375\n",
      "Current epoch 0 test loss:   0.7459973096847534\n",
      "Current epoch 0 CV loss:     0.7483544945716858\n",
      "Current epoch 0 target loss: 0.7642732858657837\n",
      "Current epoch 50 train loss:  0.5640243291854858\n",
      "Current epoch 50 test loss:   0.5641112923622131\n",
      "Current epoch 50 CV loss:     0.5666115283966064\n",
      "Current epoch 50 target loss: 0.5841959714889526\n",
      "Current epoch 100 train loss:  0.5159159898757935\n",
      "Current epoch 100 test loss:   0.5169592499732971\n",
      "Current epoch 100 CV loss:     0.5140306353569031\n",
      "Current epoch 100 target loss: 0.5515422224998474\n",
      "Current epoch 150 train loss:  0.5008491277694702\n",
      "Current epoch 150 test loss:   0.5047860145568848\n",
      "Current epoch 150 CV loss:     0.5003970861434937\n",
      "Current epoch 150 target loss: 0.5457720160484314\n",
      "Current epoch 200 train loss:  0.4950259029865265\n",
      "Current epoch 200 test loss:   0.49710455536842346\n",
      "Current epoch 200 CV loss:     0.4942770004272461\n",
      "Current epoch 200 target loss: 0.5554591417312622\n",
      "Current epoch 250 train loss:  0.49151232838630676\n",
      "Current epoch 250 test loss:   0.4937417209148407\n",
      "Current epoch 250 CV loss:     0.4894888401031494\n",
      "Current epoch 250 target loss: 0.5250810980796814\n",
      "Current epoch 300 train loss:  0.48964357376098633\n",
      "Current epoch 300 test loss:   0.4923737049102783\n",
      "Current epoch 300 CV loss:     0.48900818824768066\n",
      "Current epoch 300 target loss: 0.5240166187286377\n",
      "Current epoch 350 train loss:  0.488035649061203\n",
      "Current epoch 350 test loss:   0.49073854088783264\n",
      "Current epoch 350 CV loss:     0.4862542748451233\n",
      "Current epoch 350 target loss: 0.5226752758026123\n",
      "Current epoch 400 train loss:  0.4870690405368805\n",
      "Current epoch 400 test loss:   0.4899212121963501\n",
      "Current epoch 400 CV loss:     0.4857136309146881\n",
      "Current epoch 400 target loss: 0.5330201387405396\n",
      "Current epoch 450 train loss:  0.4862591624259949\n",
      "Current epoch 450 test loss:   0.4889387786388397\n",
      "Current epoch 450 CV loss:     0.48509547114372253\n",
      "Current epoch 450 target loss: 0.5345017313957214\n",
      "Current epoch 500 train loss:  0.48508912324905396\n",
      "Current epoch 500 test loss:   0.4896151125431061\n",
      "Current epoch 500 CV loss:     0.4839138686656952\n",
      "Current epoch 500 target loss: 0.5363423824310303\n",
      "Current epoch 550 train loss:  0.4847746789455414\n",
      "Current epoch 550 test loss:   0.4893886148929596\n",
      "Current epoch 550 CV loss:     0.4838513135910034\n",
      "Current epoch 550 target loss: 0.5348422527313232\n",
      "Current epoch 600 train loss:  0.4841168224811554\n",
      "Current epoch 600 test loss:   0.4877660870552063\n",
      "Current epoch 600 CV loss:     0.4828621447086334\n",
      "Current epoch 600 target loss: 0.5377076864242554\n",
      "Current epoch 650 train loss:  0.48387420177459717\n",
      "Current epoch 650 test loss:   0.4885900914669037\n",
      "Current epoch 650 CV loss:     0.48268210887908936\n",
      "Current epoch 650 target loss: 0.5298305749893188\n",
      "Current epoch 700 train loss:  0.483642578125\n",
      "Current epoch 700 test loss:   0.4886205792427063\n",
      "Current epoch 700 CV loss:     0.48267441987991333\n",
      "Current epoch 700 target loss: 0.5337445735931396\n",
      "Current epoch 750 train loss:  0.4831925332546234\n",
      "Current epoch 750 test loss:   0.488192617893219\n",
      "Current epoch 750 CV loss:     0.48238101601600647\n",
      "Current epoch 750 target loss: 0.5332155823707581\n",
      "Current epoch 800 train loss:  0.482915461063385\n",
      "Current epoch 800 test loss:   0.48774453997612\n",
      "Current epoch 800 CV loss:     0.4819245934486389\n",
      "Current epoch 800 target loss: 0.5338084101676941\n",
      "Current epoch 850 train loss:  0.4828159511089325\n",
      "Current epoch 850 test loss:   0.4878639876842499\n",
      "Current epoch 850 CV loss:     0.48081061244010925\n",
      "Current epoch 850 target loss: 0.5408636331558228\n",
      "Current epoch 900 train loss:  0.4824100136756897\n",
      "Current epoch 900 test loss:   0.48773011565208435\n",
      "Current epoch 900 CV loss:     0.4813103973865509\n",
      "Current epoch 900 target loss: 0.5399263501167297\n",
      "Current epoch 950 train loss:  0.48189982771873474\n",
      "Current epoch 950 test loss:   0.48826006054878235\n",
      "Current epoch 950 CV loss:     0.48062774538993835\n",
      "Current epoch 950 target loss: 0.5443755388259888\n"
     ]
    }
   ],
   "source": [
    "config = tf.ConfigProto(allow_soft_placement = True)\n",
    "config.gpu_options.allow_growth = True\n",
    "n_inputs = 28\n",
    "n_hidden1 = 28\n",
    "n_hidden2 = 28\n",
    "n_hidden3 = 28\n",
    "n_output = 1\n",
    "X = tf.placeholder(tf.float32, shape = (None, n_inputs), name = 'X')\n",
    "y = tf.placeholder(tf.float32, shape = (None, n_output), name = 'y')\n",
    "hidden1 = fully_connected(X, n_hidden1)\n",
    "BN_1 = tf.contrib.layers.batch_norm(hidden1, scale = True)\n",
    "dropout_1 = tf.nn.dropout(BN_1, keep_prob = 0.9)\n",
    "hidden2 = fully_connected(dropout_1, n_hidden2)\n",
    "hidden3 = fully_connected(hidden2, n_hidden3)\n",
    "logits = fully_connected(hidden3, n_output, activation_fn = tf.nn.sigmoid)\n",
    "xentropy = tf.losses.log_loss(labels = y, predictions = logits)\n",
    "loss = tf.reduce_mean(xentropy, name = 'loss')\n",
    "learning_rate = 0.001\n",
    "optimizer = tf.train.AdamOptimizer(learning_rate)\n",
    "training_op = optimizer.minimize(loss)\n",
    "init = tf.global_variables_initializer()\n",
    "saver = tf.train.Saver(max_to_keep = 999)\n",
    "n_epochs = 1000\n",
    "error = []\n",
    "with tf.Session(config = config) as sess:\n",
    "    sess.run(init)\n",
    "    for epoch in range(n_epochs):\n",
    "        sess.run(training_op, feed_dict = {X: X_train_scaled, y: y_train.values.reshape(-1,1)})\n",
    "        if epoch % 50 == 0:\n",
    "            log_loss_train = loss.eval(feed_dict = {X: X_train_scaled, y: y_train.values.reshape(-1,1)})\n",
    "            log_loss_test = loss.eval(feed_dict = {X: X_test_scaled, y: y_test.values.reshape(-1,1)})\n",
    "            log_loss_CV = loss.eval(feed_dict = {X: X_val_scaled, y: y_val.values.reshape(-1,1)})\n",
    "            log_loss_target = loss.eval(feed_dict = {X: X_target_scaled, y: y_target.values.reshape(-1,1)})\n",
    "            print('Current epoch {} train loss:  {}'.format(epoch, log_loss_train))\n",
    "            print('Current epoch {} test loss:   {}'.format(epoch, log_loss_test))\n",
    "            print('Current epoch {} CV loss:     {}'.format(epoch, log_loss_CV))\n",
    "            print('Current epoch {} target loss: {}'.format(epoch, log_loss_target))\n",
    "            error.append([epoch, log_loss_train, log_loss_test, log_loss_CV, log_loss_target])\n",
    "            save_path = saver.save(sess, './BasicNN/3L_NN_Model_{}.ckpt'.format(epoch))"
   ]
  },
  {
   "cell_type": "markdown",
   "metadata": {},
   "source": [
    "Plotting the model loss curve. It seems like the best model is at around 300~500 iterations."
   ]
  },
  {
   "cell_type": "code",
   "execution_count": 9,
   "metadata": {},
   "outputs": [
    {
     "data": {
      "image/png": "[encoded data removed]",
      "text/plain": [
       "<matplotlib.figure.Figure at 0x1555cb392b0>"
      ]
     },
     "metadata": {},
     "output_type": "display_data"
    }
   ],
   "source": [
    "error = np.array(error)\n",
    "plt.plot(error[:,0], error[:,1], label = 'Train')\n",
    "plt.plot(error[:,0], error[:,2], label = 'Test')\n",
    "plt.plot(error[:,0], error[:,3], label = 'CV')\n",
    "plt.plot(error[:,0], error[:,4], label = 'target')\n",
    "plt.legend('Train')\n",
    "plt.legend(bbox_to_anchor=(1.05, 1), loc=2, borderaxespad=0.)\n",
    "plt.show()"
   ]
  },
  {
   "cell_type": "markdown",
   "metadata": {},
   "source": [
    "The following code prepare data for the submission set for prediction."
   ]
  },
  {
   "cell_type": "code",
   "execution_count": 10,
   "metadata": {},
   "outputs": [],
   "source": [
    "df_fillsubmit = df_total\n",
    "df_submit = pd.read_csv(r'F:\\CODE\\NCAA 2018\\SampleSubmissionStage2.csv')\n",
    "df_submit['Season'] = df_submit['ID'].apply(lambda x: int(x[:4]))\n",
    "df_submit['lowerTeam'] = df_submit['ID'].apply(lambda x: int(x[5:9]))\n",
    "df_submit['higherTeam'] = df_submit['ID'].apply(lambda x: int(x[10:]))\n",
    "df_submit = pd.concat((df_submit, pd.DataFrame(columns = winnerStats + loserStats)), axis = 1)\n",
    "\n",
    "for year in df_submit['Season'].unique():\n",
    "    dummy = df_submit[df_submit['Season'] == year]\n",
    "    for team in dummy['lowerTeam'].unique():\n",
    "        dummy1 = df_fillsubmit[((df_fillsubmit['WTeamID'] == team) | (df_fillsubmit['LTeamID'] == team)) & (df_fillsubmit['Season'] == year)]\n",
    "        index = dummy1.index.values[0]\n",
    "        if dummy1.loc[index, 'WTeamID'] == team:\n",
    "            lower = dummy1.loc[index, winnerStats].values\n",
    "        else:\n",
    "            lower = dummy1.loc[index, loserStats].values\n",
    "        index = df_submit[(df_submit['Season'] == year) & (df_submit['lowerTeam'] == team)].index\n",
    "        df_submit.loc[index, winnerStats] = lower\n",
    "\n",
    "for year in df_submit['Season'].unique():\n",
    "    dummy = df_submit[df_submit['Season'] == year]\n",
    "    for team in dummy['higherTeam'].unique():\n",
    "        dummy1 = df_fillsubmit[((df_fillsubmit['WTeamID'] == team) | (df_fillsubmit['LTeamID'] == team)) & (df_fillsubmit['Season'] == year)]\n",
    "        index = dummy1.index.values[0]\n",
    "        if dummy1.loc[index, 'WTeamID'] == team:\n",
    "            higher = dummy1.loc[index, winnerStats].values\n",
    "        else:\n",
    "            higher = dummy1.loc[index, loserStats].values\n",
    "        index = df_submit[(df_submit['Season'] == year) & (df_submit['higherTeam'] == team)].index\n",
    "        df_submit.loc[index, loserStats] = higher\n",
    "\n",
    "df_submit = df_submit.drop(['Season', 'lowerTeam', 'higherTeam'], axis = 1)\n",
    "\n",
    "reorder = X_train.columns.values\n",
    "dummy = df_submit[reorder]\n",
    "dummy.head()\n",
    "df_submit = pd.concat((df_submit.drop(reorder, axis = 1), dummy), axis = 1)"
   ]
  },
  {
   "cell_type": "markdown",
   "metadata": {},
   "source": [
    "Prediction with logistic regression model."
   ]
  },
  {
   "cell_type": "code",
   "execution_count": 11,
   "metadata": {},
   "outputs": [],
   "source": [
    "now = datetime.datetime.now()\n",
    "CurrentTime = str(now.month) + str(now.day) + str(now.hour) + str(now.minute)\n",
    "submissionlrclf = np.clip(grid_search.predict_proba(df_submit[reorder])[:,1], 0.05, 0.95)\n",
    "df_submitform = pd.read_csv(r'F:\\CODE\\NCAA 2018\\SampleSubmissionStage2.csv')\n",
    "df_submitform['Pred'] = submissionlrclf\n",
    "df_submitform.to_csv('Logistic Regression Model Submission_{}.csv'.format(CurrentTime), index = False)"
   ]
  },
  {
   "cell_type": "markdown",
   "metadata": {},
   "source": [
    "Prediction with neural network."
   ]
  },
  {
   "cell_type": "code",
   "execution_count": 12,
   "metadata": {},
   "outputs": [
    {
     "name": "stdout",
     "output_type": "stream",
     "text": [
      "INFO:tensorflow:Restoring parameters from ./BasicNN/3L_NN_Model_500.ckpt\n"
     ]
    }
   ],
   "source": [
    "with tf.Session(config = config) as sess:\n",
    "    saver.restore(sess, './BasicNN/3L_NN_Model_500.ckpt')\n",
    "    df_submit_scaled = scaler.fit_transform(df_submit[reorder])\n",
    "    submissionNN = logits.eval(feed_dict = {X: df_submit_scaled})\n",
    "\n",
    "now = datetime.datetime.now()\n",
    "CurrentTime = str(now.month) + str(now.day) + str(now.hour) + str(now.minute)\n",
    "df_submitform = pd.read_csv(r'F:\\CODE\\NCAA 2018\\SampleSubmissionStage2.csv')\n",
    "df_submitform['Pred'] = submissionNN\n",
    "df_submitform.to_csv('NN_{} Model Submission.csv'.format(CurrentTime), index = False)"
   ]
  }
 ],
 "metadata": {
  "kernelspec": {
   "display_name": "Python 3",
   "language": "python",
   "name": "python3"
  },
  "language_info": {
   "codemirror_mode": {
    "name": "ipython",
    "version": 3
   },
   "file_extension": ".py",
   "mimetype": "text/x-python",
   "name": "python",
   "nbconvert_exporter": "python",
   "pygments_lexer": "ipython3",
   "version": "3.6.2"
  }
 },
 "nbformat": 4,
 "nbformat_minor": 2
}
